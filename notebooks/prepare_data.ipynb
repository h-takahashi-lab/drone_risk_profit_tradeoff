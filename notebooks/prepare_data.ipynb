{
 "cells": [
  {
   "cell_type": "code",
   "execution_count": 79,
   "id": "d4e498ff",
   "metadata": {},
   "outputs": [],
   "source": [
    "# ライブラリのインポート\n",
    "import osmnx as ox\n",
    "import pandas as pd\n",
    "import geopandas as gpd\n",
    "import networkx as nx\n",
    "import os\n",
    "import zipfile\n",
    "import matplotlib.pyplot as plt\n",
    "import japanize_matplotlib \n",
    "from matplotlib.ticker import MaxNLocator\n",
    "from tqdm.auto import tqdm\n",
    "from shapely.geometry import LineString, Point\n",
    "import datetime as dt\n",
    "from pathlib import Path\n",
    "import pydeck as pdk\n",
    "import numpy as np\n",
    "import math\n",
    "from geopy.distance import geodesic\n",
    "\n",
    "from shapely.wkt import loads\n",
    "\n",
    "import gurobipy as gu\n",
    "from gurobipy import Model, GRB\n",
    "import logging\n",
    "from itertools import product\n"
   ]
  },
  {
   "cell_type": "code",
   "execution_count": 41,
   "id": "d7f2de5d",
   "metadata": {},
   "outputs": [],
   "source": [
    "# --- 定数定義 ---\n",
    "# パス設定\n",
    "PROJECT_ROOT = \"../\"\n",
    "DATA_DIR = PROJECT_ROOT + 'data/'\n",
    "OUTPUT_DIR = PROJECT_ROOT + 'output/'\n",
    "INTERMEDIATE_OUTPUT_DIR = OUTPUT_DIR + 'intermediate_data/'\n",
    "\n",
    "# 入力データパス\n",
    "AGRI_DIR = DATA_DIR + 'agricultural_settlements/'\n",
    "DEM_DIR = DATA_DIR  + 'DEM250/'\n",
    "PGV_DIR = DATA_DIR + 'jshis_pgv/'\n",
    "POP_DIR = DATA_DIR + 'population/'\n",
    "MESH_DIR = DATA_DIR + 'mesh/'\n",
    "\n",
    "# 座標参照系 (CRS)\n",
    "TARGET_CRS = \"EPSG:4612\"\n",
    "WGS84_CRS = \"EPSG:4326\" # 緯度経度計算用のCRS"
   ]
  },
  {
   "cell_type": "markdown",
   "id": "56b99efd",
   "metadata": {},
   "source": [
    "# 1. データの読み込み"
   ]
  },
  {
   "cell_type": "code",
   "execution_count": 42,
   "id": "77aefd90",
   "metadata": {},
   "outputs": [],
   "source": [
    "def load_shapefiles_from_dir(directory: str, target_crs: str) -> gpd.GeoDataFrame:\n",
    "    \"\"\"指定ディレクトリ以下の全シェープファイルを再帰的に読み込み、結合して返す。\"\"\"\n",
    "    directory = Path(directory)\n",
    "    logging.info(f\"Loading shapefiles from {directory}...\")\n",
    "    shp_files = list(directory.rglob('*.shp'))\n",
    "    if not shp_files:\n",
    "        logging.warning(f\"No shapefiles found in {directory}.\")\n",
    "        return gpd.GeoDataFrame()\n",
    "    gdfs = [gpd.read_file(f) for f in shp_files]\n",
    "    combined_gdf = gpd.GeoDataFrame(pd.concat(gdfs, ignore_index=True))\n",
    "    if combined_gdf.crs is None:\n",
    "        combined_gdf.set_crs(target_crs, inplace=True)\n",
    "    return combined_gdf.to_crs(target_crs)"
   ]
  },
  {
   "cell_type": "code",
   "execution_count": 43,
   "id": "ad7f5154",
   "metadata": {},
   "outputs": [],
   "source": [
    "def load_population_data(pop_dir: str, mesh_dir: str, target_crs: str) -> gpd.GeoDataFrame:\n",
    "    \"\"\"人口統計テキストデータとメッシュシェープファイルを読み込み、結合してGeoDataFrameを返す。\"\"\"\n",
    "    pop_dir = Path(pop_dir)\n",
    "    logging.info(f\"Loading population data from {pop_dir}...\")\n",
    "    txt_files = list(pop_dir.rglob('*.txt'))\n",
    "    if not txt_files:\n",
    "        logging.warning(f\"No population text files found in {pop_dir}.\")\n",
    "        return gpd.GeoDataFrame()\n",
    "    df_col = pd.read_csv(txt_files[0], encoding=\"sjis\", nrows=1)\n",
    "    col1 = df_col.columns.tolist()\n",
    "    col2 = df_col.values[0].tolist()\n",
    "    columns = [c1 if pd.isna(c2) else c2.replace(\"\\u3000\", \"_\").lstrip(\"_\") for c1, c2 in zip(col1, col2)]\n",
    "    pop_dfs = [pd.read_csv(f, encoding=\"sjis\", header=None, skiprows=2, names=columns) for f in txt_files]\n",
    "    pop_df = pd.concat(pop_dfs, ignore_index=True)\n",
    "    pop_df['KEY_CODE'] = pop_df['KEY_CODE'].astype(str)\n",
    "    mesh_gdf = load_shapefiles_from_dir(Path(mesh_dir), target_crs)\n",
    "    pop_gdf = mesh_gdf.merge(pop_df[['KEY_CODE', '人口（総数）']], on=\"KEY_CODE\")\n",
    "    return gpd.GeoDataFrame(pop_gdf, geometry='geometry', crs=target_crs)"
   ]
  },
  {
   "cell_type": "code",
   "execution_count": 44,
   "id": "ca49ed05",
   "metadata": {},
   "outputs": [],
   "source": [
    "agri_gdf_raw = load_shapefiles_from_dir(AGRI_DIR, TARGET_CRS)\n",
    "dem_gdf_raw = load_shapefiles_from_dir(DEM_DIR, TARGET_CRS)\n",
    "pgv_gdf_raw = load_shapefiles_from_dir(PGV_DIR, TARGET_CRS)\n",
    "pop_gdf = load_population_data(POP_DIR, MESH_DIR, TARGET_CRS)"
   ]
  },
  {
   "cell_type": "markdown",
   "id": "9117c798",
   "metadata": {},
   "source": [
    "# 2. 分析エリアの設定とデータのクリッピング"
   ]
  },
  {
   "cell_type": "code",
   "execution_count": 45,
   "id": "90042486",
   "metadata": {},
   "outputs": [],
   "source": [
    "def define_analysis_area(gdf: gpd.GeoDataFrame, city_name: str, buffer_distance: float) -> dict:\n",
    "    logging.info(f\"Defining analysis area based on city: '{city_name}'\")\n",
    "    area_gdf = gdf[gdf[\"CITY_NAME\"].str.contains(city_name, na=False)].copy()\n",
    "    if area_gdf.empty:\n",
    "        raise ValueError(f\"No geometries found for city '{city_name}'\")\n",
    "    target_geometry = area_gdf.union_all()\n",
    "    buffered_geometry = target_geometry.buffer(buffer_distance)\n",
    "    return {\"filtered_gdf\": area_gdf, \"target_geometry\": target_geometry, \"buffered_geometry\": buffered_geometry}"
   ]
  },
  {
   "cell_type": "code",
   "execution_count": 46,
   "id": "a8fd68f8",
   "metadata": {},
   "outputs": [],
   "source": [
    "def clip_data_to_area(gdf: gpd.GeoDataFrame, clip_geometry) -> gpd.GeoDataFrame:\n",
    "    return gdf[gdf.intersects(clip_geometry)].copy()"
   ]
  },
  {
   "cell_type": "code",
   "execution_count": null,
   "id": "e23bb7e7",
   "metadata": {},
   "outputs": [],
   "source": [
    "def get_road_network(agri_gdf, crs: str) -> gpd.GeoDataFrame:\n",
    "    logging.info(\"Fetching road network from OSMnx...\")\n",
    "    # キャッシュは有効にしておく（デフォルトはTrue）。OSMnx側でupdateされた時に最新のデータを取得するにはFalseにする。\n",
    "    ox.settings.use_cache = True \n",
    "    polygon_wgs84 = gpd.GeoSeries([agri_gdf.union_all()], crs=crs).to_crs(WGS84_CRS).iloc[0]\n",
    "    graph = ox.graph_from_polygon(polygon_wgs84.envelope, network_type='drive')\n",
    "    _, edges_gdf = ox.graph_to_gdfs(graph)\n",
    "    edges_gdf = edges_gdf[edges_gdf[\"geometry\"].intersects(agri_gdf.unary_union)]\n",
    "    return edges_gdf.to_crs(crs)"
   ]
  },
  {
   "cell_type": "code",
   "execution_count": 48,
   "id": "e6112518",
   "metadata": {},
   "outputs": [
    {
     "name": "stderr",
     "output_type": "stream",
     "text": [
      "/var/folders/dr/zxykd_7d3519k_l3xpcbrg4r0000gn/T/ipykernel_92711/392682960.py:8: DeprecationWarning: The 'unary_union' attribute is deprecated, use the 'union_all()' method instead.\n",
      "  edges_gdf = edges_gdf[edges_gdf[\"geometry\"].intersects(agri_gdf.unary_union)]\n"
     ]
    }
   ],
   "source": [
    "analysis_area = define_analysis_area(gdf=agri_gdf_raw, city_name='常陸', buffer_distance=0.05)\n",
    "agri_gdf = analysis_area[\"filtered_gdf\"]\n",
    "clip_geom = analysis_area[\"buffered_geometry\"]\n",
    "dem_gdf = clip_data_to_area(dem_gdf_raw, clip_geom)\n",
    "pgv_gdf = clip_data_to_area(pgv_gdf_raw, clip_geom)\n",
    "road_gdf = get_road_network(agri_gdf, TARGET_CRS)"
   ]
  },
  {
   "cell_type": "code",
   "execution_count": 49,
   "id": "a287aedb",
   "metadata": {},
   "outputs": [],
   "source": [
    "# 出力ファイルパス\n",
    "AGRI_GDF_PKL = INTERMEDIATE_OUTPUT_DIR + 'agri_gdf.pkl'\n",
    "DEM_GDF_PKL = INTERMEDIATE_OUTPUT_DIR + 'dem_gdf.pkl'\n",
    "PGV_GDF_PKL = INTERMEDIATE_OUTPUT_DIR + 'pgv_gdf.pkl'\n",
    "ROAD_GDF_PKL = INTERMEDIATE_OUTPUT_DIR + 'road_gdf.pkl'"
   ]
  },
  {
   "cell_type": "code",
   "execution_count": 50,
   "id": "f48eb598",
   "metadata": {},
   "outputs": [],
   "source": [
    "# GeoDataFrameの保存 (Pickle形式)\n",
    "agri_gdf.to_pickle(AGRI_GDF_PKL)\n",
    "dem_gdf.to_pickle(DEM_GDF_PKL)\n",
    "pgv_gdf.to_pickle(PGV_GDF_PKL)\n",
    "road_gdf.to_pickle(ROAD_GDF_PKL)"
   ]
  },
  {
   "cell_type": "markdown",
   "id": "4fad7a8c",
   "metadata": {},
   "source": [
    "# 3. リスク計算と人口集計"
   ]
  },
  {
   "cell_type": "code",
   "execution_count": 51,
   "id": "0eec18c4",
   "metadata": {},
   "outputs": [],
   "source": [
    "# モデルパラメータ (論文のTable 3より)\n",
    "BETA_0 = -6.3\n",
    "BETA_1 = 1.65\n",
    "BETA_2 = 0.06\n",
    "BETA_3 = 0.01"
   ]
  },
  {
   "cell_type": "code",
   "execution_count": 52,
   "id": "90697269",
   "metadata": {},
   "outputs": [],
   "source": [
    "def calculate_landslide_risk(dem_gdf: gpd.GeoDataFrame, pgv_gdf: gpd.GeoDataFrame) -> gpd.GeoDataFrame:\n",
    "    logging.info(\"Calculating landslide risk for each terrain mesh...\")\n",
    "    dem_with_pgv = pd.merge(pgv_gdf[['CODE', 'T50_P39_SV', 'geometry']], dem_gdf[['G04d_001', 'G04d_010_numeric']], left_on='CODE', right_on='G04d_001', how='left').drop(columns=['G04d_001'])\n",
    "    dem_with_pgv.rename(columns={'T50_P39_SV': 'pgv', 'G04d_010_numeric': 'slope'}, inplace=True)\n",
    "    logit_prob = (BETA_0 + BETA_1 * np.log(dem_with_pgv['pgv'].clip(lower=1e-9)) + BETA_2 * dem_with_pgv['slope'] + BETA_3 * np.log(dem_with_pgv['pgv'].clip(lower=1e-9)) * dem_with_pgv['slope'])\n",
    "    dem_with_pgv['landslide_prob'] = 1 / (1 + np.exp(-logit_prob))\n",
    "    return dem_with_pgv"
   ]
  },
  {
   "cell_type": "code",
   "execution_count": 53,
   "id": "053c83e3",
   "metadata": {},
   "outputs": [],
   "source": [
    "def calculate_isolation_risk(agri_gdf: gpd.GeoDataFrame, road_gdf: gpd.GeoDataFrame, risk_gdf: gpd.GeoDataFrame) -> gpd.GeoDataFrame:\n",
    "    logging.info(\"Calculating road disruption and settlement isolation risk...\")\n",
    "    road_with_risk = gpd.sjoin(road_gdf[['geometry']], risk_gdf[['landslide_prob', 'geometry']], how=\"left\", predicate=\"intersects\")\n",
    "    road_disruption_prob = 1 - road_with_risk.groupby('geometry')['landslide_prob'].apply(lambda p: (1 - p).prod())\n",
    "    road_disruption_prob.name = 'disruption_prob'\n",
    "    road_with_prob = road_gdf.join(road_disruption_prob, on='geometry')\n",
    "    agri_boundaries = agri_gdf.copy()\n",
    "    agri_boundaries['geometry'] = agri_boundaries.boundary\n",
    "    settlement_road_join = gpd.sjoin(agri_boundaries, road_with_prob[['disruption_prob', 'geometry']], how='left', predicate=\"intersects\")\n",
    "    isolation_prob = settlement_road_join.groupby(settlement_road_join.index)['disruption_prob'].prod()\n",
    "    isolation_prob.name = 'isolation_prob'\n",
    "    syuraku_with_isolation = agri_gdf.join(isolation_prob, how='left')\n",
    "    mean_prob = syuraku_with_isolation['isolation_prob'].mean()\n",
    "    syuraku_with_isolation['isolation_prob'].fillna(value=mean_prob, inplace=True)\n",
    "    return syuraku_with_isolation"
   ]
  },
  {
   "cell_type": "code",
   "execution_count": null,
   "id": "3c066864",
   "metadata": {},
   "outputs": [],
   "source": [
    "def aggregate_population_by_settlement(syuraku_with_isolation_gdf: gpd.GeoDataFrame, pop_gdf: gpd.GeoDataFrame) -> gpd.GeoDataFrame:\n",
    "    logging.info(\"Aggregating population and calculating expected victims...\")\n",
    "    syuraku_with_pop = gpd.sjoin(syuraku_with_isolation_gdf, pop_gdf[['人口（総数）', 'KEY_CODE', 'geometry']], how='left', predicate=\"intersects\")\n",
    "    syuraku_with_pop.drop_duplicates(subset='KEY_CODE', keep='first', inplace=True)\n",
    "    pop_sum = syuraku_with_pop.groupby(syuraku_with_pop.index).agg(total_population=('人口（総数）', 'sum'))\n",
    "    result_gdf = syuraku_with_isolation_gdf.join(pop_sum, how='left')\n",
    "    result_gdf['total_population'].fillna(0, inplace=True)\n",
    "    result_gdf['expected_victims'] = result_gdf['total_population'] * result_gdf['isolation_prob']\n",
    "    return result_gdf.reset_index(drop=True).reset_index().rename(columns={'index': 'syuraku_id'})"
   ]
  },
  {
   "cell_type": "code",
   "execution_count": 55,
   "id": "cf82780c",
   "metadata": {},
   "outputs": [
    {
     "name": "stderr",
     "output_type": "stream",
     "text": [
      "/var/folders/dr/zxykd_7d3519k_l3xpcbrg4r0000gn/T/ipykernel_92711/1875742036.py:14: FutureWarning: A value is trying to be set on a copy of a DataFrame or Series through chained assignment using an inplace method.\n",
      "The behavior will change in pandas 3.0. This inplace method will never work because the intermediate object on which we are setting values always behaves as a copy.\n",
      "\n",
      "For example, when doing 'df[col].method(value, inplace=True)', try using 'df.method({col: value}, inplace=True)' or df[col] = df[col].method(value) instead, to perform the operation inplace on the original object.\n",
      "\n",
      "\n",
      "  syuraku_with_isolation['isolation_prob'].fillna(value=mean_prob, inplace=True)\n",
      "/var/folders/dr/zxykd_7d3519k_l3xpcbrg4r0000gn/T/ipykernel_92711/3369453510.py:7: FutureWarning: A value is trying to be set on a copy of a DataFrame or Series through chained assignment using an inplace method.\n",
      "The behavior will change in pandas 3.0. This inplace method will never work because the intermediate object on which we are setting values always behaves as a copy.\n",
      "\n",
      "For example, when doing 'df[col].method(value, inplace=True)', try using 'df.method({col: value}, inplace=True)' or df[col] = df[col].method(value) instead, to perform the operation inplace on the original object.\n",
      "\n",
      "\n",
      "  result_gdf['total_population'].fillna(0, inplace=True)\n"
     ]
    }
   ],
   "source": [
    "dem_gdf['G04d_010_numeric'] = pd.to_numeric(dem_gdf['G04d_010'], errors='coerce')\n",
    "risk_gdf = calculate_landslide_risk(dem_gdf, pgv_gdf)\n",
    "syuraku_with_isolation_gdf = calculate_isolation_risk(agri_gdf, road_gdf, risk_gdf)\n",
    "syuraku_pop_risk_gdf = aggregate_population_by_settlement(syuraku_with_isolation_gdf, pop_gdf)"
   ]
  },
  {
   "cell_type": "code",
   "execution_count": null,
   "id": "953fc171",
   "metadata": {},
   "outputs": [],
   "source": [
    "# 出力ファイルパス\n",
    "RISK_GDF_PKL = INTERMEDIATE_OUTPUT_DIR + 'risk_gdf.pkl'\n",
    "SYURAKU_WITH_ISOLATION_GDF_PKL = INTERMEDIATE_OUTPUT_DIR + 'syuraku_with_isolation_gdf.pkl'\n",
    "SYURAKU_POP_RISK_GDF_PKL = INTERMEDIATE_OUTPUT_DIR + 'syuraku_pop_risk_gdf.pkl'\n",
    "# GeoDataFrameの保存 (Pickle形式)\n",
    "risk_gdf.to_pickle(RISK_GDF_PKL)\n",
    "syuraku_with_isolation_gdf.to_pickle(SYURAKU_WITH_ISOLATION_GDF_PKL)\n",
    "syuraku_pop_risk_gdf.to_pickle(SYURAKU_POP_RISK_GDF_PKL)"
   ]
  },
  {
   "cell_type": "markdown",
   "id": "7a3bdf53",
   "metadata": {},
   "source": [
    "# 4. 配送先と施設候補地の準備"
   ]
  },
  {
   "cell_type": "code",
   "execution_count": 73,
   "id": "df1c3c79",
   "metadata": {},
   "outputs": [],
   "source": [
    "def prepare_destination_and_facility_nodes(agri_gdf: gpd.GeoDataFrame, syuraku_pop_risk_gdf: gpd.GeoDataFrame) -> tuple[gpd.GeoDataFrame, gpd.GeoDataFrame]:\n",
    "    logging.info(\"Preparing destination and facility nodes...\")\n",
    "    destination_nodes = syuraku_pop_risk_gdf.copy()\n",
    "    destination_nodes['geometry'] = destination_nodes.geometry.centroid\n",
    "    analysis_area_polygon = agri_gdf.union_all()\n",
    "    bounding_polygon = analysis_area_polygon.envelope\n",
    "    graph = ox.graph_from_polygon(bounding_polygon, network_type='drive')\n",
    "    nodes_gdf, _ = ox.graph_to_gdfs(graph)\n",
    "    nodes_gdf = nodes_gdf.to_crs(TARGET_CRS)\n",
    "    facility_candidates = nodes_gdf[(nodes_gdf.street_count >= 4) & (nodes_gdf.intersects(analysis_area_polygon))].copy()\n",
    "    facility_nodes = facility_candidates.reset_index().reset_index().rename(columns={'index': 'facility_id'})\n",
    "    return destination_nodes, facility_nodes\n"
   ]
  },
  {
   "cell_type": "code",
   "execution_count": 74,
   "id": "aff730ee",
   "metadata": {},
   "outputs": [
    {
     "name": "stderr",
     "output_type": "stream",
     "text": [
      "/var/folders/dr/zxykd_7d3519k_l3xpcbrg4r0000gn/T/ipykernel_92711/754827305.py:4: UserWarning: Geometry is in a geographic CRS. Results from 'centroid' are likely incorrect. Use 'GeoSeries.to_crs()' to re-project geometries to a projected CRS before this operation.\n",
      "\n",
      "  destination_nodes['geometry'] = destination_nodes.geometry.centroid\n"
     ]
    }
   ],
   "source": [
    "destination_nodes, facility_nodes = prepare_destination_and_facility_nodes(agri_gdf, syuraku_pop_risk_gdf)"
   ]
  },
  {
   "cell_type": "code",
   "execution_count": 75,
   "id": "07bd97ea",
   "metadata": {},
   "outputs": [],
   "source": [
    "# 出力ファイルパス\n",
    "DESTINATION_NODES_PKL = INTERMEDIATE_OUTPUT_DIR + 'destination_nodes.pkl'\n",
    "FACILITY_NODES_PKL = INTERMEDIATE_OUTPUT_DIR + 'facility_nodes.pkl'\n",
    "# GeoDataFrameの保存 (Pickle形式)\n",
    "destination_nodes.to_pickle(DESTINATION_NODES_PKL)\n",
    "facility_nodes.to_pickle(FACILITY_NODES_PKL)"
   ]
  },
  {
   "cell_type": "markdown",
   "id": "f4fe6cff",
   "metadata": {},
   "source": [
    "# 5.最適化用データ作成"
   ]
  },
  {
   "cell_type": "code",
   "execution_count": 87,
   "id": "ec0bcdda",
   "metadata": {},
   "outputs": [],
   "source": [
    "def prepare_optimization_variables(destination_nodes: gpd.GeoDataFrame, facility_nodes: gpd.GeoDataFrame) -> dict:\n",
    "    \"\"\"最適化モデルに必要なパラメータ、セット、行列を準備する。\"\"\"\n",
    "    logging.info(\"Preparing variables for optimization...\")\n",
    "\n",
    "    # --- パラメータ定義 ---\n",
    "    NUM_OPEN_FACILITIES = 12       # k: 開設される施設の数\n",
    "    UAV_ENDURANCE = 3              # E: 各UAVの耐久距離 (km)\n",
    "    EXCHANGE_RATE = 164.48         # 1ユーロあたりの円\n",
    "    ITEM_PRICE_MARGIN = 20 * EXCHANGE_RATE\n",
    "    FIX_COST = 1 * EXCHANGE_RATE\n",
    "    MAX_DELIVERY_COST = 1 * EXCHANGE_RATE\n",
    "\n",
    "    # --- セット定義 ---\n",
    "    # Gurobiで扱いやすいように、0から始まる連続した整数IDにマッピングする\n",
    "    facility_map = {fid: i for i, fid in enumerate(facility_nodes['facility_id'])}\n",
    "    destination_map = {did: i for i, did in enumerate(destination_nodes['syuraku_id'])}\n",
    "\n",
    "    NODE_F = np.array(list(facility_map.values()))\n",
    "    NODE_D = np.array(list(destination_map.values()))\n",
    "\n",
    "    # --- 距離行列と収益性行列の計算 ---\n",
    "    logging.info(\"Calculating distance and profitability matrices...\")\n",
    "\n",
    "    # 緯度経度(WGS84)に変換して座標を取得\n",
    "    fac_coords = facility_nodes.to_crs(WGS84_CRS)['geometry'].apply(lambda p: (p.y, p.x))\n",
    "    dest_coords = destination_nodes.to_crs(WGS84_CRS)['geometry'].apply(lambda p: (p.y, p.x))\n",
    "\n",
    "    # 全ての組み合わせの距離を効率的に計算\n",
    "    # itertools.productで全組み合わせを生成し、geodesicで距離(km)を計算\n",
    "    all_distances = [geodesic(p1, p2).km for p1, p2 in product(fac_coords, dest_coords)]\n",
    "    DISTANCE_F_D = np.array(all_distances).reshape(len(NODE_F), len(NODE_D))\n",
    "\n",
    "    # 収益性計算の準備\n",
    "    # 人口データを需要地点の順序に合わせてNumpy配列に変換\n",
    "    pop_d_array = destination_nodes['total_population'].to_numpy()\n",
    "    \n",
    "    # ブロードキャストを利用して収益性行列を一括計算\n",
    "    # (1, N_NODE_D)の形状の人口配列と(N_NODE_F, N_NODE_D)の形状の距離行列で計算\n",
    "    profit_per_person = ITEM_PRICE_MARGIN - FIX_COST - (MAX_DELIVERY_COST * DISTANCE_F_D / UAV_ENDURANCE)\n",
    "    PROFITABILITY_F_D = pop_d_array[np.newaxis, :] * profit_per_person\n",
    "    \n",
    "    # --- その他の配列定義 ---\n",
    "    POPULATION_D = pop_d_array\n",
    "    RISK_D = destination_nodes['isolation_prob'].to_numpy()\n",
    "\n",
    "    # --- 目的関数の定数 ---\n",
    "    MAX_SUM_UNCOVERED_ISOLATED_PEOPLE = np.sum(RISK_D * POPULATION_D)\n",
    "\n",
    "    # 人口が0の地点に微小なボーナス(epsilon)を与え、それ以外は0にする\n",
    "    epsilon = 1e-4  # 主目的を邪魔しない非常に小さい値\n",
    "    COVERAGE_BONUS_D = np.where(POPULATION_D == 0, epsilon, 0)\n",
    "    logging.info(f\"Created coverage bonus for {np.sum(COVERAGE_BONUS_D > 0)} zero-population points.\")\n",
    "    # ★★★ 変更点 End ★★★\n",
    "    \n",
    "    logging.info(\"Finished preparing optimization variables.\")\n",
    "\n",
    "    # --- 結果を辞書にまとめる ---\n",
    "    optimization_vars = {\n",
    "        \"DISTANCE_F_D\": DISTANCE_F_D,\n",
    "        \"PROFITABILITY_F_D\": PROFITABILITY_F_D,\n",
    "        \"POPULATION_D\": POPULATION_D,\n",
    "        \"RISK_D\": RISK_D,\n",
    "        \"NODE_F\": NODE_F,\n",
    "        \"NODE_D\": NODE_D,\n",
    "        \"facility_map\": facility_map,\n",
    "        \"destination_map\": destination_map,\n",
    "        \"NUM_OPEN_FACILITIES\": NUM_OPEN_FACILITIES,\n",
    "        \"MAX_SUM_UNCOVERED_ISOLATED_PEOPLE\": MAX_SUM_UNCOVERED_ISOLATED_PEOPLE,\n",
    "        \"COVERAGE_BONUS_D\": COVERAGE_BONUS_D, # ★★★ 変更点: 保存対象に追加 ★★★\n",
    "        \"UAV_ENDURANCE\": UAV_ENDURANCE # ★★★ 変更点: UAV_ENDURANCEも保存 ★★★\n",
    "\n",
    "    }\n",
    "    return optimization_vars"
   ]
  },
  {
   "cell_type": "code",
   "execution_count": 88,
   "id": "ca812bb8",
   "metadata": {},
   "outputs": [],
   "source": [
    "optimization_vars = prepare_optimization_variables(destination_nodes, facility_nodes)"
   ]
  },
  {
   "cell_type": "code",
   "execution_count": 89,
   "id": "c75f2cef",
   "metadata": {},
   "outputs": [],
   "source": [
    "OPTIMIZATION_VARS_NPZ = INTERMEDIATE_OUTPUT_DIR + 'optimization_vars.npz'"
   ]
  },
  {
   "cell_type": "code",
   "execution_count": 90,
   "id": "57639de7",
   "metadata": {},
   "outputs": [],
   "source": [
    "np.savez(OPTIMIZATION_VARS_NPZ, **optimization_vars)"
   ]
  },
  {
   "cell_type": "code",
   "execution_count": 84,
   "id": "50f94e50",
   "metadata": {},
   "outputs": [
    {
     "data": {
      "text/plain": [
       "array([[2296375.08641333, 3173258.24365355,  529719.77970308, ...,\n",
       "          62561.82384974,  263267.12291465,  326305.84367958],\n",
       "       [2318842.31914598, 3203236.61054858,  534871.14553004, ...,\n",
       "          63457.02333506,  267113.76512403,  331306.50967859],\n",
       "       [2818413.88377875, 4035094.3542033 ,  624721.56401955, ...,\n",
       "          90592.39536386,  402102.37194163,  516857.58169153],\n",
       "       ...,\n",
       "       [2987224.0976406 , 4509691.86995602,  651617.09657289, ...,\n",
       "          76807.67936074,  341047.82306867,  435356.95871823],\n",
       "       [2987127.87206138, 4523685.10457108,  651427.31026803, ...,\n",
       "          76145.70129891,  338091.858735  ,  431385.16187292],\n",
       "       [2987778.39024266, 4526950.99097405,  651550.15970739, ...,\n",
       "          76042.66060754,  337621.42475535,  430740.57325526]],\n",
       "      shape=(843, 332))"
      ]
     },
     "execution_count": 84,
     "metadata": {},
     "output_type": "execute_result"
    }
   ],
   "source": [
    "optimization_vars[\"PROFITABILITY_F_D\"]"
   ]
  }
 ],
 "metadata": {
  "kernelspec": {
   "display_name": "3.13.5",
   "language": "python",
   "name": "python3"
  },
  "language_info": {
   "codemirror_mode": {
    "name": "ipython",
    "version": 3
   },
   "file_extension": ".py",
   "mimetype": "text/x-python",
   "name": "python",
   "nbconvert_exporter": "python",
   "pygments_lexer": "ipython3",
   "version": "3.13.5"
  }
 },
 "nbformat": 4,
 "nbformat_minor": 5
}
